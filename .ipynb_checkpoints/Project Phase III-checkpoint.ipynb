{
 "cells": [
  {
   "cell_type": "markdown",
   "metadata": {},
   "source": [
    "# Project Phase III\n",
    "*bjc288, ch685*\n",
    "\n",
    "## Analyses:\n",
    "- **Do stocks perform better in the years following an above average year of percent return than they would otherwise?** I.e., does one year of strong performance indicate future years of strong performance? This investigates the validity of the “hot-hand phenomenon.” This analysis can be utilized by hedge fund managers and retail investors to filter and select stocks with previous year above average returns. This methodology of trading stocks that recently outperformed can also be utilized by diversified funds that can target above-average return stocks across many sectors.\n",
    "Even if the results are not statistically significant, meaning that there is no significant correlation (positive or negative between a stock’s previous year performance and future performance), this can be used to refute the concept of investing in top performing or worst performing stocks. Speculative individual traders have adopted this risky strategy in which they will purchase stocks that have performed significantly better or worse than average in hopes that the trend will continue or reverse, respectively, and if our analysis is inconclusive, the results may contradict this risky strategy.\n",
    "\n",
    "- **Do certain sectors perform better during certain periods of time?** For example, is a particular month associated with typically high/low returns for a given sector? Significant data on sector growth trends by month/season would give a general idea on when to buy and sell certain stocks. In addition, it would be interesting to consider the reasoning behind why some sectors tend to do better in said months. Conversely, even without significant data, it signals that there is no reason to wait for a certain time in the year to buy stocks from a sector because of preconceived notions that a certain sector does better/worse during a particular month. \n",
    "\n",
    "\n",
    "## Questions for reviewers\n",
    "1. How would you recommend we go about modelling the first question?\n",
    "2. Should we also analyze a time span of months of multiple years for the first question? Do you believe that this would enhance our analysis?\n",
    "3. Is the scope of the second question complex enough?\n",
    "4. Are there any additional analyses we should consider?"
   ]
  },
  {
   "cell_type": "code",
   "execution_count": null,
   "metadata": {},
   "outputs": [],
   "source": []
  }
 ],
 "metadata": {
  "kernelspec": {
   "display_name": "Python 3",
   "language": "python",
   "name": "python3"
  },
  "language_info": {
   "codemirror_mode": {
    "name": "ipython",
    "version": 3
   },
   "file_extension": ".py",
   "mimetype": "text/x-python",
   "name": "python",
   "nbconvert_exporter": "python",
   "pygments_lexer": "ipython3",
   "version": "3.6.8"
  }
 },
 "nbformat": 4,
 "nbformat_minor": 2
}
